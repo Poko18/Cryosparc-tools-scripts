{
 "cells": [
  {
   "cell_type": "code",
   "execution_count": 3,
   "metadata": {},
   "outputs": [],
   "source": [
    "from dotenv import dotenv_values\n",
    "from cryosparc.tools import CryoSPARC\n",
    "\n",
    "# Load login credentials from .env file\n",
    "env_vars = dotenv_values('.env')\n",
    "license = env_vars['CRYOSPARC_LICENSE_ID']\n",
    "host = env_vars['CRYOSPARC_HOST']\n",
    "email = env_vars['CRYOSPARC_EMAIL']\n",
    "password = env_vars['CRYOSPARC_PASSWORD']\n",
    "\n",
    "# Connect to CryoSPARC instance\n",
    "cs = CryoSPARC(\n",
    "    license=license,\n",
    "    host=host,\n",
    "    base_port=39000,\n",
    "    email=email,\n",
    "    password=password\n",
    ")"
   ]
  },
  {
   "cell_type": "markdown",
   "metadata": {},
   "source": [
    "### Cryodrgn inputs\n",
    "- downsample particle stacks (126) --> particle stacks\n",
    "(can be also done in CS, or with cryodrgn script)\n",
    "- select random subset 100.000 particles\n",
    "- cs refinement job to extract poses.pkl and ctk.pkl\n",
    "\n",
    "#### Replace `cryodrgn downsample` with `cryodrgn preprocess`\n",
    "cryodrgn preprocess P10_J712_particles_exported.cs \\\n",
    "\t\t--datadir P10/exports/groups/P10_J628_particles/J626/extract \\\n",
    "\t\t-D 128 \\\n",
    "\t\t-o data/preprocessed/128/particles.mrcs\n",
    "\n",
    "#### Parse pose information as usual, specifying the refinement box size with -D\n",
    "cryodrgn parse_pose_csparc P10_J712_particles_exported.cs \\\n",
    "\t\t-D 256 \\\n",
    "\t\t-o data/pose.pkl\n",
    "\n",
    "#### Parse CTF information as usual\n",
    "cryodrgn parse_ctf_csparc P10_J712_particles_exported.cs -o data/ctf.pkl\n",
    "\n",
    "#### Run cryoDRGN with preprocessed particles.ft.txt and extra flag --preprocessed\n",
    "cryodrgn train_vae data/preprocessed/128/particles.ft.txt \\\n",
    "\t\t--preprocessed \\\n",
    "\t\t--ctf data/ctf.pkl \\\n",
    "\t\t--poses data/pose.pkl \\\n",
    "\t\t--zdim 8 \\\n",
    "\t\t-n 50 \\\n",
    "\t\t-o 00_vae128 >> 00.log"
   ]
  },
  {
   "cell_type": "code",
   "execution_count": 17,
   "metadata": {},
   "outputs": [],
   "source": [
    "project=cs.find_project(\"P42\")\n",
    "workspace=\"W6\"\n",
    "\n",
    "title=\"cryodrgn\"\n",
    "job=project.create_external_job(workspace, title=title)\n"
   ]
  },
  {
   "cell_type": "code",
   "execution_count": 112,
   "metadata": {},
   "outputs": [],
   "source": [
    "# Start the job and set its status to \"running\"\n",
    "job.log(f\"Starting job - {job.uid}\")\n",
    "job.start(status=\"running\")"
   ]
  },
  {
   "cell_type": "code",
   "execution_count": 61,
   "metadata": {},
   "outputs": [
    {
     "name": "stdout",
     "output_type": "stream",
     "text": [
      "/media/longstorage/Tadej/CS-walker/J225/J225_004_particles.cs\n"
     ]
    }
   ],
   "source": [
    "refinement_job = project.find_job(\"J225\")\n",
    "particle_file_list = refinement_job.list_files()\n",
    "particles_file = sorted([file for file in particle_file_list if file.endswith(\"particles.cs\") and not file.endswith(\"passthrough_particles.cs\") ])[-1]\n",
    "particles_file_path=f\"{str(refinement_job.dir())}/{particles_file}\"\n",
    "print(particles_file_path)"
   ]
  },
  {
   "cell_type": "code",
   "execution_count": 68,
   "metadata": {},
   "outputs": [],
   "source": [
    "# Copy particles file\n",
    "particles_file_final_path=f\"{job.dir()}/{particles_file}\"\n",
    "job.cp(particles_file_path,particles_file_final_path)"
   ]
  },
  {
   "cell_type": "code",
   "execution_count": null,
   "metadata": {},
   "outputs": [],
   "source": [
    "# Make particles dir\n",
    "#job.mkdir(\"particles_data\", exist_ok=True)\n",
    "#particles = job.load_input(\"particles\", [\"blob\"])\n",
    "#for particle in particles.rows():\n",
    "#    source = particle[\"blob/path\"]\n",
    "#    target = job.uid + \"/particles_data/\" + source.split(\"/\")[-1]\n",
    "    #project.symlink(source, target)\n",
    "#    print(source, target)\n",
    "    ### problem.. its the whole mrc file"
   ]
  },
  {
   "cell_type": "code",
   "execution_count": 103,
   "metadata": {},
   "outputs": [
    {
     "name": "stdout",
     "output_type": "stream",
     "text": [
      "758578\n"
     ]
    }
   ],
   "source": [
    "particles = job.load_input(\"particles\", [\"blob\"]).rows()\n",
    "number_of_particles=len(particles)\n",
    "print(number_of_particles)\n",
    "\n",
    "datadir=\"/\".join(particles[0][\"blob/path\"].split(\"/\")[:-1])\n",
    "downsampled_size=128\n",
    "subset=10000"
   ]
  },
  {
   "cell_type": "code",
   "execution_count": 104,
   "metadata": {},
   "outputs": [
    {
     "name": "stdout",
     "output_type": "stream",
     "text": [
      "(INFO) (utils.py) (13-Jul-23 21:51:08) Note: NumExpr detected 64 cores but \"NUMEXPR_MAX_THREADS\" not set, so enforcing safe limit of 8.\n",
      "(INFO) (utils.py) (13-Jul-23 21:51:08) NumExpr defaulting to 8 threads.\n",
      "758578 total particles\n",
      "10000 particles in selection: [    45     47     56 ... 758231 758351 758491]\n",
      "Saving ind10000.pkl\n"
     ]
    }
   ],
   "source": [
    "\n",
    "job.subprocess(\n",
    "    f\"cryodrgn_utils select_random {number_of_particles} -n {subset} -o ind{subset}.pkl\".split(\" \"),\n",
    "    cwd=job.dir(),\n",
    "    mute=False,\n",
    "    checkpoint=True\n",
    ")"
   ]
  },
  {
   "cell_type": "code",
   "execution_count": 94,
   "metadata": {},
   "outputs": [],
   "source": [
    "#cryodrgn preprocess P10_J712_particles_exported.cs \\\n",
    "\t\t#--datadir P10/exports/groups/P10_J628_particles/J626/extract \\\n",
    "\t\t#-D 128 \\\n",
    "\t\t#-o data/preprocessed/128/particles.mrcs"
   ]
  },
  {
   "cell_type": "code",
   "execution_count": 98,
   "metadata": {},
   "outputs": [
    {
     "data": {
      "text/plain": [
       "PurePosixPath('/media/longstorage/Tadej/CS-walker')"
      ]
     },
     "execution_count": 98,
     "metadata": {},
     "output_type": "execute_result"
    }
   ],
   "source": [
    "project.dir()"
   ]
  },
  {
   "cell_type": "code",
   "execution_count": 105,
   "metadata": {},
   "outputs": [
    {
     "name": "stdout",
     "output_type": "stream",
     "text": [
      "(INFO) (utils.py) (13-Jul-23 21:51:50) Note: NumExpr detected 64 cores but \"NUMEXPR_MAX_THREADS\" not set, so enforcing safe limit of 8.\n",
      "(INFO) (utils.py) (13-Jul-23 21:51:50) NumExpr defaulting to 8 threads.\n",
      "(INFO) (preprocess.py) (13-Jul-23 21:52:01) Filtering image dataset with /media/longstorage/Tadej/CS-walker/J293/ind10000.pkl\n",
      "(INFO) (preprocess.py) (13-Jul-23 21:52:01) Loading 10000 250x250 images\n",
      "(INFO) (preprocess.py) (13-Jul-23 21:52:01) Downsampling images to 128x128\n",
      "(INFO) (preprocess.py) (13-Jul-23 21:52:01) Processing chunk 1 of 1\n",
      "(INFO) (preprocess.py) (13-Jul-23 21:52:01) Processing batch of 5000 images (1 of 2)\n",
      "(INFO) (preprocess.py) (13-Jul-23 21:59:50) Processing batch of 5000 images (2 of 2)\n",
      "(INFO) (preprocess.py) (13-Jul-23 22:08:27) New shape: (10000, 129, 129)\n",
      "(INFO) (preprocess.py) (13-Jul-23 22:08:27) Saving /media/longstorage/Tadej/CS-walker/J293/particles.128.0.ft.mrcs\n",
      "(INFO) (preprocess.py) (13-Jul-23 22:08:30) Saving summary txt file /media/longstorage/Tadej/CS-walker/J293/particles.128.ft.txt\n"
     ]
    }
   ],
   "source": [
    "# Replace `cryodrgn downsample` with `cryodrgn preprocess`????\n",
    "\n",
    "# Downsample particles\n",
    "job.subprocess(\n",
    "    f\"cryodrgn preprocess {particles_file} --datadir {project.dir()} --ind ind{subset}.pkl -D {downsampled_size} -o particles.{downsampled_size}.mrcs\".split(\" \"),\n",
    "    cwd=job.dir(),\n",
    "    mute=False,\n",
    "    checkpoint=True\n",
    ")\n"
   ]
  },
  {
   "cell_type": "code",
   "execution_count": 108,
   "metadata": {},
   "outputs": [],
   "source": [
    "#why is shape 129??\n",
    "size=250 # get from map?"
   ]
  },
  {
   "cell_type": "code",
   "execution_count": 110,
   "metadata": {},
   "outputs": [
    {
     "name": "stdout",
     "output_type": "stream",
     "text": [
      "(INFO) (utils.py) (13-Jul-23 22:24:23) Note: NumExpr detected 64 cores but \"NUMEXPR_MAX_THREADS\" not set, so enforcing safe limit of 8.\n",
      "(INFO) (utils.py) (13-Jul-23 22:24:23) NumExpr defaulting to 8 threads.\n",
      "0 uid 14438296101616066123\n",
      "1 blob/path b'J206/extract/012449035513946905941_FoilHole_23398537_Data_23403785_23403787_20230625_105531_Fractions_patch_aligned_doseweighted_particles.mrc'\n",
      "2 blob/idx 0\n",
      "3 blob/shape [250 250]\n",
      "4 blob/psize_A 0.76\n",
      "5 blob/sign -1.0\n",
      "6 blob/import_sig 0\n",
      "7 ctf/type b'spline'\n",
      "8 ctf/exp_group_id 7\n",
      "9 ctf/accel_kv 200.0\n",
      "10 ctf/cs_mm 2.7\n",
      "11 ctf/amp_contrast 0.1\n",
      "12 ctf/df1_A 14074.505\n",
      "13 ctf/df2_A 12539.849\n",
      "14 ctf/df_angle_rad 0.39969373\n",
      "15 ctf/phase_shift_rad 0.0\n",
      "16 ctf/scale 1.0\n",
      "17 ctf/scale_const 1.0\n",
      "18 ctf/shift_A [0. 0.]\n",
      "19 ctf/tilt_A [0. 0.]\n",
      "20 ctf/trefoil_A [0. 0.]\n",
      "21 ctf/tetra_A [0. 0. 0. 0.]\n",
      "22 ctf/anisomag [0. 0. 0. 0.]\n",
      "23 ctf/bfactor 0.0\n",
      "24 alignments3D/split 0\n",
      "25 alignments3D/shift [-1.9140625  0.0390625]\n",
      "26 alignments3D/pose [ 1.9459642  -0.45931774  0.36815545]\n",
      "27 alignments3D/psize_A 0.76\n",
      "28 alignments3D/error 2273.7107\n",
      "29 alignments3D/error_min 0.0\n",
      "30 alignments3D/resid_pow 0.0\n",
      "31 alignments3D/slice_pow 17.017273\n",
      "32 alignments3D/image_pow 2291.091\n",
      "33 alignments3D/cross_cor 34.397705\n",
      "34 alignments3D/alpha 1.0\n",
      "35 alignments3D/alpha_min 1.0106703\n",
      "36 alignments3D/weight 0.0\n",
      "37 alignments3D/pose_ess 0.0\n",
      "38 alignments3D/shift_ess 0.0\n",
      "39 alignments3D/class_posterior 1.0\n",
      "40 alignments3D/class 0\n",
      "41 alignments3D/class_ess 1.0\n",
      "(INFO) (parse_pose_csparc.py) (13-Jul-23 22:24:25) Extracting rotations from alignments3D/pose\n",
      "(INFO) (parse_pose_csparc.py) (13-Jul-23 22:24:26) Transposing rotation matrix\n",
      "(INFO) (parse_pose_csparc.py) (13-Jul-23 22:24:26) (758578, 3, 3)\n",
      "(INFO) (parse_pose_csparc.py) (13-Jul-23 22:24:26) Extracting translations from alignments3D/shift\n",
      "(INFO) (parse_pose_csparc.py) (13-Jul-23 22:24:27) (758578, 2)\n",
      "(INFO) (parse_pose_csparc.py) (13-Jul-23 22:24:27) Writing /media/longstorage/Tadej/CS-walker/J293/pose.pkl\n"
     ]
    }
   ],
   "source": [
    "job.subprocess(\n",
    "    f\"cryodrgn parse_pose_csparc {particles_file} -D {size} -o pose.pkl\".split(\" \"),\n",
    "    cwd=job.dir(),\n",
    "    mute=False,\n",
    "    checkpoint=True\n",
    ")"
   ]
  },
  {
   "cell_type": "code",
   "execution_count": 111,
   "metadata": {},
   "outputs": [
    {
     "name": "stdout",
     "output_type": "stream",
     "text": [
      "(INFO) (utils.py) (13-Jul-23 22:26:42) Note: NumExpr detected 64 cores but \"NUMEXPR_MAX_THREADS\" not set, so enforcing safe limit of 8.\n",
      "(INFO) (utils.py) (13-Jul-23 22:26:42) NumExpr defaulting to 8 threads.\n",
      "(INFO) (parse_ctf_csparc.py) (13-Jul-23 22:26:44) 758578 particles\n",
      "(INFO) (ctf.py) (13-Jul-23 22:26:44) Image size (pix)  : 250\n",
      "(INFO) (ctf.py) (13-Jul-23 22:26:44) A/pix             : 0.7599999904632568\n",
      "(INFO) (ctf.py) (13-Jul-23 22:26:44) DefocusU (A)      : 14074.5048828125\n",
      "(INFO) (ctf.py) (13-Jul-23 22:26:44) DefocusV (A)      : 12539.8486328125\n",
      "(INFO) (ctf.py) (13-Jul-23 22:26:44) Dfang (deg)       : 22.90076368321733\n",
      "(INFO) (ctf.py) (13-Jul-23 22:26:44) voltage (kV)      : 200.0\n",
      "(INFO) (ctf.py) (13-Jul-23 22:26:44) cs (mm)           : 2.700000047683716\n",
      "(INFO) (ctf.py) (13-Jul-23 22:26:44) w                 : 0.10000000149011612\n",
      "(INFO) (ctf.py) (13-Jul-23 22:26:44) Phase shift (deg) : 0.0\n",
      "(INFO) (parse_ctf_csparc.py) (13-Jul-23 22:26:44) Saving /media/longstorage/Tadej/CS-walker/J293/ctf.pkl\n"
     ]
    }
   ],
   "source": [
    "job.subprocess(\n",
    "    f\"cryodrgn parse_ctf_csparc {particles_file} -o ctf.pkl\".split(\" \"),\n",
    "    cwd=job.dir(),\n",
    "    mute=False,\n",
    "    checkpoint=True\n",
    ")"
   ]
  },
  {
   "cell_type": "markdown",
   "metadata": {},
   "source": [
    "cryodrgn train_vae data/preprocessed/128/particles.ft.txt \\\n",
    "\t\t--preprocessed \\\n",
    "\t\t--ctf data/ctf.pkl \\\n",
    "\t\t--poses data/pose.pkl \\\n",
    "\t\t--zdim 8 \\\n",
    "\t\t-n 50 \\\n",
    "\t\t-o 00_vae128 >> 00.log"
   ]
  },
  {
   "cell_type": "code",
   "execution_count": 114,
   "metadata": {},
   "outputs": [],
   "source": [
    "particles_input=\"particles.128.ft.txt\""
   ]
  },
  {
   "cell_type": "code",
   "execution_count": null,
   "metadata": {},
   "outputs": [],
   "source": [
    "# Cuda not working.. I had differen env ..> cryodrgn3 or cryofire3\n",
    "# Need only ind of poses and ctf...\n",
    "# compare pkl?"
   ]
  },
  {
   "cell_type": "code",
   "execution_count": 116,
   "metadata": {},
   "outputs": [
    {
     "name": "stdout",
     "output_type": "stream",
     "text": [
      "(INFO) (utils.py) (13-Jul-23 22:34:48) Note: NumExpr detected 64 cores but \"NUMEXPR_MAX_THREADS\" not set, so enforcing safe limit of 8.\n",
      "(INFO) (utils.py) (13-Jul-23 22:34:48) NumExpr defaulting to 8 threads.\n",
      "(INFO) (train_vae.py) (13-Jul-23 22:34:49) /home/perun-d12/anaconda3/envs/cryodrgn/bin/cryodrgn train_vae particles.128.ft.txt --preprocessed --ctf ctf.pkl --poses pose.pkl --zdim 8 -n 30 -o 00_vae128\n",
      "(INFO) (train_vae.py) (13-Jul-23 22:34:49) Namespace(particles='/media/longstorage/Tadej/CS-walker/J293/particles.128.ft.txt', outdir='/media/longstorage/Tadej/CS-walker/J293/00_vae128', zdim=8, poses='/media/longstorage/Tadej/CS-walker/J293/pose.pkl', ctf='/media/longstorage/Tadej/CS-walker/J293/ctf.pkl', load=None, checkpoint=1, log_interval=1000, verbose=False, seed=97505, ind=None, invert_data=True, window=True, window_r=0.85, datadir=None, lazy=False, preprocessed=True, num_workers_per_gpu=4, max_threads=16, tilt=None, tilt_deg=45, num_epochs=30, batch_size=8, wd=0, lr=0.0001, beta=None, beta_control=None, norm=None, amp=True, multigpu=False, do_pose_sgd=False, pretrain=1, emb_type='quat', pose_lr=0.0003, qlayers=3, qdim=1024, encode_mode='resid', enc_mask=None, use_real=False, players=3, pdim=1024, pe_type='gaussian', feat_sigma=0.5, pe_dim=None, domain='fourier', activation='relu', func=<function main at 0x7facf6a6d550>)\n",
      "(INFO) (train_vae.py) (13-Jul-23 22:34:49) Use cuda False\n",
      "(WARNING) (train_vae.py) (13-Jul-23 22:34:49) WARNING: No GPUs detected\n",
      "(INFO) (train_vae.py) (13-Jul-23 22:34:49) Loading dataset from /media/longstorage/Tadej/CS-walker/J293/particles.128.ft.txt\n",
      "(INFO) (train_vae.py) (13-Jul-23 22:34:49) Using preprocessed inputs. Ignoring any --window/--invert-data options\n",
      "(INFO) (dataset.py) (13-Jul-23 22:34:59) Loaded 10000 129x129 images\n",
      "(INFO) (dataset.py) (13-Jul-23 22:35:00) Normalized HT by 0 +/- 257.3898010253906\n",
      "Traceback (most recent call last):\n",
      "  File \"/home/perun-d12/anaconda3/envs/cryodrgn/bin/cryodrgn\", line 8, in <module>\n",
      "    sys.exit(main())\n",
      "  File \"/home/perun-d12/anaconda3/envs/cryodrgn/lib/python3.9/site-packages/cryodrgn/__main__.py\", line 72, in main\n",
      "    args.func(args)\n",
      "  File \"/home/perun-d12/anaconda3/envs/cryodrgn/lib/python3.9/site-packages/cryodrgn/commands/train_vae.py\", line 672, in main\n",
      "    posetracker = PoseTracker.load(\n",
      "  File \"/home/perun-d12/anaconda3/envs/cryodrgn/lib/python3.9/site-packages/cryodrgn/pose.py\", line 92, in load\n",
      "    assert rots.shape == (\n",
      "AssertionError: Input rotations have shape (758578, 3, 3) but expected (10000,3,3)\n"
     ]
    },
    {
     "ename": "RuntimeError",
     "evalue": "Subprocess ['cryodrgn', 'train_vae', 'particles.128.ft.txt', '--preprocessed', '--ctf', 'ctf.pkl', '--poses', 'pose.pkl', '--zdim', '8', '-n', '30', '-o', '00_vae128'] exited with status 1",
     "output_type": "error",
     "traceback": [
      "\u001b[0;31m---------------------------------------------------------------------------\u001b[0m",
      "\u001b[0;31mRuntimeError\u001b[0m                              Traceback (most recent call last)",
      "Cell \u001b[0;32mIn[116], line 1\u001b[0m\n\u001b[0;32m----> 1\u001b[0m job\u001b[39m.\u001b[39;49msubprocess(\n\u001b[1;32m      2\u001b[0m     \u001b[39mf\u001b[39;49m\u001b[39m\"\u001b[39;49m\u001b[39mcryodrgn train_vae \u001b[39;49m\u001b[39m{\u001b[39;49;00mparticles_input\u001b[39m}\u001b[39;49;00m\u001b[39m --preprocessed --ctf ctf.pkl --poses pose.pkl --zdim 8 -n 30 -o 00_vae128\u001b[39;49m\u001b[39m\"\u001b[39;49m\u001b[39m.\u001b[39;49msplit(\u001b[39m\"\u001b[39;49m\u001b[39m \u001b[39;49m\u001b[39m\"\u001b[39;49m),\n\u001b[1;32m      3\u001b[0m     cwd\u001b[39m=\u001b[39;49mjob\u001b[39m.\u001b[39;49mdir(),\n\u001b[1;32m      4\u001b[0m     mute\u001b[39m=\u001b[39;49m\u001b[39mFalse\u001b[39;49;00m,\n\u001b[1;32m      5\u001b[0m     checkpoint\u001b[39m=\u001b[39;49m\u001b[39mTrue\u001b[39;49;00m\n\u001b[1;32m      6\u001b[0m )\n",
      "File \u001b[0;32m~/anaconda3/envs/cryodrgn/lib/python3.9/site-packages/cryosparc/job.py:923\u001b[0m, in \u001b[0;36mJob.subprocess\u001b[0;34m(self, args, mute, checkpoint, checkpoint_line_pattern, **kwargs)\u001b[0m\n\u001b[1;32m    921\u001b[0m     msg \u001b[39m=\u001b[39m \u001b[39mf\u001b[39m\u001b[39m\"\u001b[39m\u001b[39mSubprocess \u001b[39m\u001b[39m{\u001b[39;00margs\u001b[39m}\u001b[39;00m\u001b[39m exited with status \u001b[39m\u001b[39m{\u001b[39;00mproc\u001b[39m.\u001b[39mreturncode\u001b[39m}\u001b[39;00m\u001b[39m\"\u001b[39m\n\u001b[1;32m    922\u001b[0m     \u001b[39mself\u001b[39m\u001b[39m.\u001b[39mlog(msg, level\u001b[39m=\u001b[39m\u001b[39m\"\u001b[39m\u001b[39merror\u001b[39m\u001b[39m\"\u001b[39m)\n\u001b[0;32m--> 923\u001b[0m     \u001b[39mraise\u001b[39;00m \u001b[39mRuntimeError\u001b[39;00m(msg)\n\u001b[1;32m    925\u001b[0m \u001b[39mself\u001b[39m\u001b[39m.\u001b[39mlog(\u001b[39m\"\u001b[39m\u001b[39m======================= Subprocess complete. =========================\u001b[39m\u001b[39m\"\u001b[39m)\n",
      "\u001b[0;31mRuntimeError\u001b[0m: Subprocess ['cryodrgn', 'train_vae', 'particles.128.ft.txt', '--preprocessed', '--ctf', 'ctf.pkl', '--poses', 'pose.pkl', '--zdim', '8', '-n', '30', '-o', '00_vae128'] exited with status 1"
     ]
    }
   ],
   "source": [
    "job.subprocess(\n",
    "    f\"cryodrgn train_vae {particles_input} --preprocessed --ctf ctf.pkl --poses pose.pkl --zdim 8 -n 30 -o 00_vae128\".split(\" \"),\n",
    "    cwd=job.dir(),\n",
    "    mute=False,\n",
    "    checkpoint=True\n",
    ")"
   ]
  },
  {
   "cell_type": "code",
   "execution_count": null,
   "metadata": {},
   "outputs": [],
   "source": [
    "# Connect particle_stacks from refinement job\n",
    "\n",
    "# Get .cs file\n",
    "\n",
    "# Perform downsampling, ctf and poses\n",
    "\n",
    "# Run cryoDRGN"
   ]
  }
 ],
 "metadata": {
  "kernelspec": {
   "display_name": "cryodrgn",
   "language": "python",
   "name": "python3"
  },
  "language_info": {
   "codemirror_mode": {
    "name": "ipython",
    "version": 3
   },
   "file_extension": ".py",
   "mimetype": "text/x-python",
   "name": "python",
   "nbconvert_exporter": "python",
   "pygments_lexer": "ipython3",
   "version": "3.9.16"
  },
  "orig_nbformat": 4
 },
 "nbformat": 4,
 "nbformat_minor": 2
}
